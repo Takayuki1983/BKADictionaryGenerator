{
 "cells": [
  {
   "cell_type": "markdown",
   "metadata": {},
   "source": [
    "# 自動トリミング\n",
    "元画像をモデルナンバーにリネームする作業が完了したら、AI_facecrop.exeアプリを実行してください。AIが顔の位置を認識し、それに従ってトリミングを行います。\n",
    "※ファイル名の頭の３桁の地域コードは削除してください。"
   ]
  },
  {
   "cell_type": "markdown",
   "metadata": {},
   "source": [
    "# 失敗画像の修正、リサイズ\n",
    "トリミングが完了したら失敗画像の修正を行ってください。"
   ]
  },
  {
   "cell_type": "markdown",
   "metadata": {},
   "source": [
    "# list_xx.pyの制作\n",
    "名簿のエクセルを既存のlist.pyファイルを参考にしながらPythonのフォーマットに編集し、BKADictionaryGeneratorフォルダ直下に配置します。list_xx.py各行の数字と画像のファイル名が一致すると、自動で文字列が挿入されるという仕組みです。<br>\n",
    "<br>リストの項目が画像に対して多くてもエラーにはなりませんが、その逆はエラーになります。リストの項目にダミーの項目が設けてありますので間違って消さないように注意してください。"
   ]
  },
  {
   "cell_type": "markdown",
   "metadata": {},
   "source": [
    "# ページ制作\n",
    "画像の枚数は<font color=\"red\">12の倍数でないと<b>list index out of range</b>エラーになる</font>ため、ダミーの画像を入れて枚数を調整してください。<br>\n",
    "準備が整ったら下記コードを実行してください。（一つ下のセル<font color=\"blue\">In [4]:</font>が選択され、セル全体が緑の枠で囲わた状態でRunボタンを押すと実行されます。）\n",
    "<br><br>\n",
    "<b>名簿リストのファイル名を.pyを含めず入力してください：</b>\n",
    "と表示されるので、<b>3  list_xx.pyの制作</b>で作ったリストのファイル名を拡張子を含めずに入力。<br><br>\n",
    "<b>何ページから開始？ : </b><br>\n",
    "と表示されたら最初のページ数を入力します。左ページ開始用の仕様となっています。<br><br>\n",
    "\n",
    "<b>背景画像（left.jp / right.jp）が格納されているフォルダパスは？： </b><br>\n",
    "と表示されたら事前に用意した背景画像が格納されているパスを入力します。<br><br>\n",
    "\n",
    "最後に<b>画像が格納されたフォルダーを選択してください。</b>というメッセージと共にダイアログが立ち上がるので、<b>1  自動トリミング</b>で加工した画像が格納されたフォルダを選択してください。<br><br>\n",
    "\n",
    "\n",
    "outputフォルダにページが書き出されます。"
   ]
  },
  {
   "cell_type": "code",
   "execution_count": 2,
   "metadata": {
    "code_folding": [
     9,
     27,
     31,
     34,
     55,
     62,
     71,
     80
    ]
   },
   "outputs": [
    {
     "name": "stdout",
     "output_type": "stream",
     "text": [
      "名簿リストのファイル名を.pyを含めず入力してください：list001\n",
      "何ページから開始？ : 2\n",
      "背景画像（left.jp / right.jp）が格納されているフォルダパスは？：C:\\Users\\moriya\\ImageClassifier\\BKADictionaryGenerator\\back_imgトンボなし\\4-6\\boy\n",
      "進捗95.5 ％"
     ]
    },
    {
     "ename": "IndexError",
     "evalue": "list index out of range",
     "output_type": "error",
     "traceback": [
      "\u001b[1;31m---------------------------------------------------------------------------\u001b[0m",
      "\u001b[1;31mIndexError\u001b[0m                                Traceback (most recent call last)",
      "\u001b[1;32m<ipython-input-2-78f5a827298a>\u001b[0m in \u001b[0;36m<module>\u001b[1;34m\u001b[0m\n\u001b[0;32m     84\u001b[0m     \u001b[0mdraw\u001b[0m \u001b[1;33m=\u001b[0m \u001b[0mImageDraw\u001b[0m\u001b[1;33m.\u001b[0m\u001b[0mDraw\u001b[0m\u001b[1;33m(\u001b[0m\u001b[0mback_im\u001b[0m\u001b[1;33m)\u001b[0m\u001b[1;33m\u001b[0m\u001b[1;33m\u001b[0m\u001b[0m\n\u001b[0;32m     85\u001b[0m \u001b[1;31m#１行目\u001b[0m\u001b[1;33m\u001b[0m\u001b[1;33m\u001b[0m\u001b[1;33m\u001b[0m\u001b[0m\n\u001b[1;32m---> 86\u001b[1;33m     \u001b[0madd\u001b[0m\u001b[1;33m(\u001b[0m\u001b[1;36m500\u001b[0m\u001b[1;33m+\u001b[0m\u001b[0ma\u001b[0m\u001b[1;33m,\u001b[0m\u001b[1;36m555\u001b[0m\u001b[1;33m+\u001b[0m\u001b[0ma\u001b[0m\u001b[1;33m,\u001b[0m\u001b[0mi\u001b[0m\u001b[1;33m)\u001b[0m\u001b[1;33m\u001b[0m\u001b[1;33m\u001b[0m\u001b[0m\n\u001b[0m\u001b[0;32m     87\u001b[0m     \u001b[0madd\u001b[0m\u001b[1;33m(\u001b[0m\u001b[1;36m1516\u001b[0m\u001b[1;33m+\u001b[0m\u001b[0ma\u001b[0m\u001b[1;33m,\u001b[0m\u001b[1;36m555\u001b[0m\u001b[1;33m+\u001b[0m\u001b[0ma\u001b[0m\u001b[1;33m,\u001b[0m\u001b[0mi\u001b[0m\u001b[1;33m+\u001b[0m\u001b[1;36m1\u001b[0m\u001b[1;33m)\u001b[0m\u001b[1;33m\u001b[0m\u001b[1;33m\u001b[0m\u001b[0m\n\u001b[0;32m     88\u001b[0m \u001b[1;31m#2行目\u001b[0m\u001b[1;33m\u001b[0m\u001b[1;33m\u001b[0m\u001b[1;33m\u001b[0m\u001b[0m\n",
      "\u001b[1;32m<ipython-input-2-78f5a827298a>\u001b[0m in \u001b[0;36madd\u001b[1;34m(x, y, i)\u001b[0m\n\u001b[0;32m     27\u001b[0m \u001b[1;31m#1人分のマスの中の配置を定義\u001b[0m\u001b[1;33m\u001b[0m\u001b[1;33m\u001b[0m\u001b[1;33m\u001b[0m\u001b[0m\n\u001b[0;32m     28\u001b[0m \u001b[1;32mdef\u001b[0m \u001b[0madd\u001b[0m\u001b[1;33m(\u001b[0m\u001b[0mx\u001b[0m\u001b[1;33m,\u001b[0m \u001b[0my\u001b[0m\u001b[1;33m,\u001b[0m\u001b[0mi\u001b[0m\u001b[1;33m)\u001b[0m\u001b[1;33m:\u001b[0m\u001b[1;33m\u001b[0m\u001b[1;33m\u001b[0m\u001b[0m\n\u001b[1;32m---> 29\u001b[1;33m     \u001b[0mimg\u001b[0m \u001b[1;33m=\u001b[0m \u001b[0mImage\u001b[0m\u001b[1;33m.\u001b[0m\u001b[0mopen\u001b[0m\u001b[1;33m(\u001b[0m\u001b[0mos\u001b[0m\u001b[1;33m.\u001b[0m\u001b[0mpath\u001b[0m\u001b[1;33m.\u001b[0m\u001b[0mjoin\u001b[0m\u001b[1;33m(\u001b[0m\u001b[0mdir_path\u001b[0m\u001b[1;33m,\u001b[0m\u001b[0mpictures_whthout\u001b[0m\u001b[1;33m[\u001b[0m\u001b[0mi\u001b[0m\u001b[1;33m]\u001b[0m\u001b[1;33m+\u001b[0m\u001b[1;34m'.jpg'\u001b[0m\u001b[1;33m)\u001b[0m\u001b[1;33m)\u001b[0m\u001b[1;33m\u001b[0m\u001b[1;33m\u001b[0m\u001b[0m\n\u001b[0m\u001b[0;32m     30\u001b[0m \u001b[1;33m\u001b[0m\u001b[0m\n\u001b[0;32m     31\u001b[0m     \u001b[0msearch_image\u001b[0m \u001b[1;33m=\u001b[0m \u001b[0mpictures_whthout\u001b[0m\u001b[1;33m[\u001b[0m\u001b[0mi\u001b[0m\u001b[1;33m]\u001b[0m\u001b[1;33m\u001b[0m\u001b[1;33m\u001b[0m\u001b[0m\n",
      "\u001b[1;31mIndexError\u001b[0m: list index out of range"
     ]
    }
   ],
   "source": [
    "import os\n",
    "from PIL import Image, ImageDraw, ImageFilter, ImageFont\n",
    "import tkinter, tkinter.filedialog#[開く]で元画像フォルダー選択するために必要なライブラリ\n",
    "import sys\n",
    "from importlib import import_module\n",
    "\n",
    "list_ = input('名簿リストのファイル名を.pyを含めず入力してください：')\n",
    "module1 = import_module(list_)\n",
    "\n",
    "def resource_path(relative_path):\n",
    "    if hasattr(sys, '_MEIPASS'):\n",
    "        return os.path.join(sys._MEIPASS, relative_path)\n",
    "\n",
    "    return os.path.join(os.path.abspath(\".\"), relative_path)\n",
    "\n",
    "shin_light = resource_path('./A-OTF-ShinGoPro-Light.otf')\n",
    "shin_bold = resource_path('./A-OTF-ShinGoPro-Bold_0.otf')\n",
    "fnt = ImageFont.truetype(shin_light,60) #ImageFontインスタンスを作る\n",
    "fnt2 = ImageFont.truetype(shin_light,45) #ImageFontインスタンスを作る\n",
    "fnt3 = ImageFont.truetype(shin_bold,60) #ImageFontインスタンスを作る\n",
    "fnt4 = ImageFont.truetype(shin_light,25) #ImageFontインスタンスを作る\n",
    "\n",
    "player_list = module1.player_list\n",
    "\n",
    "a = 0#トンボなしなら-154、ありなら0を定義\n",
    "\n",
    "#1人分のマスの中の配置を定義\n",
    "def add(x, y,i):\n",
    "    img = Image.open(os.path.join(dir_path,pictures_whthout[i]+'.jpg'))\n",
    "    \n",
    "    search_image = pictures_whthout[i]\n",
    "    for player in player_list:\n",
    "        if player[0] == search_image:\n",
    "            break\n",
    "    else:\n",
    "        player = [None, None, None, None]\n",
    "\n",
    "    #print(player[1], player[2], player[3])\n",
    "    \n",
    "    back_im.paste(img, (x, y))\n",
    "    draw.text((x+650,y+140),pictures_whthout[i], fill=(0, 0, 0), font=fnt3)#モデルナンバー\n",
    "    draw.text((x+700,y+400),player[2], fill=(0, 0, 0), font=fnt)#年齢\n",
    "    draw.text((x+700,y+495),player[3], fill=(0, 0, 0), font=fnt2)#地域\n",
    "    draw.text((x+120,y+670),player[1], fill=(0, 0, 0), font=fnt)#名前\n",
    "#1人分のマスの中の配置を定義ここまで    \n",
    "\n",
    "j = input('何ページから開始？ : ')\n",
    "\n",
    "back_img_dir = input('背景画像（left.jp / right.jp）が格納されているフォルダパスは？：')\n",
    "\n",
    "#元画像フォルダー選択\n",
    "root = tkinter.Tk()\n",
    "root.withdraw()\n",
    "msg = '画像が格納されたフォルダーを選択してください。'\n",
    "dir_path = tkinter.filedialog.askdirectory(title=msg)\n",
    "if (not dir_path): #[キャンセル]クリック時の処理\n",
    "    print('フォルダーを選んでください。')\n",
    "    sys.exit()\n",
    "#元画像フォルダー選択ここまで\n",
    "\n",
    "pictures = os.listdir(os.path.join(dir_path))#フォルダリストの中身をリスト化\n",
    "#エラー回避処理\n",
    "if 'Thumbs.db' in pictures:\n",
    "    pictures.remove('Thumbs.db')\n",
    "#エラー回避処理\n",
    "\n",
    "pictures_whthout = []\n",
    "\n",
    "#拡張子なしで数字の昇順ソートされたリストを作る処理\n",
    "i = 0\n",
    "j = int(j)\n",
    "while i < len(pictures):\n",
    "    p = os.path.basename(pictures[i]).split('.', 1)[0]\n",
    "    pictures_whthout.append(p)\n",
    "\n",
    "    i = i +1\n",
    "    \n",
    "pictures_whthout = sorted(pictures_whthout, key=int)\n",
    "\n",
    "i = 0\n",
    "while i < len(pictures_whthout)+1:#ページ数の数だけ処理を繰り返す\n",
    "#左ページ\n",
    "    back_im =  Image.open(os.path.join(back_img_dir,'left.jpg',))#\n",
    "    draw = ImageDraw.Draw(back_im)\n",
    "#１行目\n",
    "    add(500+a,555+a,i)\n",
    "    add(1516+a,555+a,i+1)\n",
    "#2行目\n",
    "    add(500+a,1500+a,i+2)\n",
    "    add(1516+a,1500+a,i+3)\n",
    "#3行目\n",
    "    add(500+a,2445+a,i+4)\n",
    "    add(1516+a,2445+a,i+5)\n",
    "    \n",
    "    \n",
    "    draw.text((250+a,3575+a),str(j), fill=(0, 0, 0), font=fnt4)#ページ数\n",
    "    \n",
    "    back_im.save(os.path.join('output',str(j)+'ページ.jpg'), quality=100, dpi=(300, 300))\n",
    "\n",
    "#右ページ\n",
    "    back_im =  Image.open(os.path.join(back_img_dir,'right.jpg',))\n",
    "    draw = ImageDraw.Draw(back_im)\n",
    "#１行目\n",
    "    add(390+a,555+a,i+6)\n",
    "    add(1406+a,555+a,i+7)\n",
    "#2行目\n",
    "    add(390+a,1500+a,i+8)\n",
    "    add(1406+a,1500+a,i+9)\n",
    "#3行目\n",
    "    add(390+a,2445+a,i+10)\n",
    "    add(1406+a,2445+a,i+11)\n",
    "     \n",
    "\n",
    "    draw.text((2500+a,3575+a),str(j+1), fill=(0, 0, 0), font=fnt4)#ページ数\n",
    "    \n",
    "    back_im.save(os.path.join('output',str(j+1)+'ページ.jpg'), quality=100, dpi=(300, 300))\n",
    "    pictures = os.listdir(os.path.join(dir_path))#フォルダリスト\n",
    "\n",
    "    percent = (int(i)/int(len(pictures_whthout)))\n",
    "    print(\"\\r\"+'進捗'+str(round(100 * percent,1)) ,end=''+' ％')\n",
    "    i = i +12\n",
    "    j = j +2\n",
    "    \n",
    "print('完了')\n",
    "root.quit()#この処理のせいでエラーメッセージが出ますが、スルーしてOKです。\n",
    "exit()#この処理のせいでエラーメッセージが出ますが、スルーしてOKです。"
   ]
  },
  {
   "cell_type": "code",
   "execution_count": null,
   "metadata": {},
   "outputs": [],
   "source": []
  }
 ],
 "metadata": {
  "kernelspec": {
   "display_name": "Python 3",
   "language": "python",
   "name": "python3"
  },
  "language_info": {
   "codemirror_mode": {
    "name": "ipython",
    "version": 3
   },
   "file_extension": ".py",
   "mimetype": "text/x-python",
   "name": "python",
   "nbconvert_exporter": "python",
   "pygments_lexer": "ipython3",
   "version": "3.7.3"
  },
  "toc": {
   "base_numbering": 1,
   "nav_menu": {},
   "number_sections": true,
   "sideBar": true,
   "skip_h1_title": false,
   "title_cell": "Table of Contents",
   "title_sidebar": "Contents",
   "toc_cell": false,
   "toc_position": {
    "height": "calc(100% - 180px)",
    "left": "10px",
    "top": "150px",
    "width": "270px"
   },
   "toc_section_display": true,
   "toc_window_display": true
  }
 },
 "nbformat": 4,
 "nbformat_minor": 2
}
